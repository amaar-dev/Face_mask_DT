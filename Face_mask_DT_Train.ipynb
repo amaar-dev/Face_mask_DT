{
  "nbformat": 4,
  "nbformat_minor": 0,
  "metadata": {
    "colab": {
      "provenance": [],
      "authorship_tag": "ABX9TyOuLl0LtSinIlF9cyndzQEr",
      "include_colab_link": true
    },
    "kernelspec": {
      "name": "python3",
      "display_name": "Python 3"
    },
    "language_info": {
      "name": "python"
    }
  },
  "cells": [
    {
      "cell_type": "markdown",
      "metadata": {
        "id": "view-in-github",
        "colab_type": "text"
      },
      "source": [
        "<a href=\"https://colab.research.google.com/github/amaar-dev/Face_mask_DT/blob/main/Face_mask_DT_Train.ipynb\" target=\"_parent\"><img src=\"https://colab.research.google.com/assets/colab-badge.svg\" alt=\"Open In Colab\"/></a>"
      ]
    },
    {
      "cell_type": "markdown",
      "source": [
        "#Training model to recognise face masks"
      ],
      "metadata": {
        "id": "mXw-yTKXFCW-"
      }
    },
    {
      "cell_type": "markdown",
      "source": [
        "## Importing Data set to train Model"
      ],
      "metadata": {
        "id": "FSfXhjEFFMUM"
      }
    },
    {
      "cell_type": "code",
      "source": [
        "from pathlib import Path\n",
        "import kagglehub\n",
        "import os\n",
        "\n",
        "\n",
        "path = kagglehub.dataset_download(\"vijaykumar1799/face-mask-detection\")\n",
        "\n",
        "print(\"Path to dataset files:\", path)\n",
        "\n",
        "dataset_dir = Path(path) / \"Dataset\"\n",
        "with_mask_dir = dataset_dir / \"with_mask\"\n",
        "without_mask_dir = dataset_dir / \"without_mask\"\n",
        "\n",
        "\n",
        "#check folder\n",
        "print(\"Files in dataset folder: \")\n",
        "print(os.listdir(path))\n",
        "\n",
        "\n",
        "print(\"with_mask : \", len(os.listdir(with_mask_dir)), \"images\")\n",
        "print(\"without_mask : \", len(os.listdir(without_mask_dir)), \"images\")\n",
        "\n",
        "\n",
        "\n"
      ],
      "metadata": {
        "colab": {
          "base_uri": "https://localhost:8080/"
        },
        "id": "ggBIMhnsFLYl",
        "outputId": "66a45d87-8fc1-4971-a19e-25e15adec32f"
      },
      "execution_count": 3,
      "outputs": [
        {
          "output_type": "stream",
          "name": "stdout",
          "text": [
            "Path to dataset files: /kaggle/input/face-mask-detection\n",
            "Files in dataset folder: \n",
            "['Dataset']\n",
            "with_mask :  2994 images\n",
            "without_mask :  2994 images\n"
          ]
        }
      ]
    }
  ]
}