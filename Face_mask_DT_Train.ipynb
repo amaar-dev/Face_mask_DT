{
  "nbformat": 4,
  "nbformat_minor": 0,
  "metadata": {
    "colab": {
      "provenance": [],
      "authorship_tag": "ABX9TyMcWcq26lG0YNNNbFCibkJw",
      "include_colab_link": true
    },
    "kernelspec": {
      "name": "python3",
      "display_name": "Python 3"
    },
    "language_info": {
      "name": "python"
    }
  },
  "cells": [
    {
      "cell_type": "markdown",
      "metadata": {
        "id": "view-in-github",
        "colab_type": "text"
      },
      "source": [
        "<a href=\"https://colab.research.google.com/github/amaar-dev/Face_mask_DT/blob/main/Face_mask_DT_Train.ipynb\" target=\"_parent\"><img src=\"https://colab.research.google.com/assets/colab-badge.svg\" alt=\"Open In Colab\"/></a>"
      ]
    },
    {
      "cell_type": "markdown",
      "source": [
        "#Training model to recognise face masks"
      ],
      "metadata": {
        "id": "mXw-yTKXFCW-"
      }
    },
    {
      "cell_type": "markdown",
      "source": [
        "## Importing Data set to train Model"
      ],
      "metadata": {
        "id": "FSfXhjEFFMUM"
      }
    },
    {
      "cell_type": "code",
      "source": [
        "import kagglehub\n",
        "import os\n",
        "\n",
        "path = kagglehub.dataset_download(\"vijaykumar1799/face-mask-detection\")\n",
        "\n",
        "print(\"Path to dataset files:\", path)\n",
        "\n",
        "#check folder\n",
        "print(\"Files in dataset folder: \")\n",
        "print(os.listdir(path))\n"
      ],
      "metadata": {
        "colab": {
          "base_uri": "https://localhost:8080/"
        },
        "id": "ggBIMhnsFLYl",
        "outputId": "fa994be3-a17f-4863-a099-c0a46c88ca93"
      },
      "execution_count": 1,
      "outputs": [
        {
          "output_type": "stream",
          "name": "stdout",
          "text": [
            "Downloading from https://www.kaggle.com/api/v1/datasets/download/vijaykumar1799/face-mask-detection?dataset_version_number=1...\n"
          ]
        },
        {
          "output_type": "stream",
          "name": "stderr",
          "text": [
            "100%|██████████| 222M/222M [00:01<00:00, 131MB/s]"
          ]
        },
        {
          "output_type": "stream",
          "name": "stdout",
          "text": [
            "Extracting files...\n"
          ]
        },
        {
          "output_type": "stream",
          "name": "stderr",
          "text": [
            "\n"
          ]
        },
        {
          "output_type": "stream",
          "name": "stdout",
          "text": [
            "Path to dataset files: /root/.cache/kagglehub/datasets/vijaykumar1799/face-mask-detection/versions/1\n",
            "Files in dataset folder: \n",
            "['Dataset']\n"
          ]
        }
      ]
    }
  ]
}