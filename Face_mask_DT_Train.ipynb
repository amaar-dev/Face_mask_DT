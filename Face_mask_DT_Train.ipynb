{
  "nbformat": 4,
  "nbformat_minor": 0,
  "metadata": {
    "colab": {
      "provenance": [],
      "authorship_tag": "ABX9TyNT+uIwyleQC2QbURt6A1v/",
      "include_colab_link": true
    },
    "kernelspec": {
      "name": "python3",
      "display_name": "Python 3"
    },
    "language_info": {
      "name": "python"
    }
  },
  "cells": [
    {
      "cell_type": "markdown",
      "metadata": {
        "id": "view-in-github",
        "colab_type": "text"
      },
      "source": [
        "<a href=\"https://colab.research.google.com/github/amaar-dev/Face_mask_DT/blob/main/Face_mask_DT_Train.ipynb\" target=\"_parent\"><img src=\"https://colab.research.google.com/assets/colab-badge.svg\" alt=\"Open In Colab\"/></a>"
      ]
    },
    {
      "cell_type": "markdown",
      "source": [
        "#Training model to recognise face masks"
      ],
      "metadata": {
        "id": "mXw-yTKXFCW-"
      }
    },
    {
      "cell_type": "markdown",
      "source": [
        "### Importing Data set to train Model"
      ],
      "metadata": {
        "id": "FSfXhjEFFMUM"
      }
    },
    {
      "cell_type": "code",
      "source": [],
      "metadata": {
        "id": "ggBIMhnsFLYl"
      },
      "execution_count": null,
      "outputs": []
    }
  ]
}